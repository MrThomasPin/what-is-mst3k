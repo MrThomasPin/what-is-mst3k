{
 "cells": [
  {
   "cell_type": "code",
   "execution_count": 1,
   "metadata": {},
   "outputs": [],
   "source": [
    "from sklearn.tree import DecisionTreeClassifier\n",
    "from sklearn.model_selection import train_test_split \n",
    "from sklearn.neighbors import KNeighborsClassifier, KNeighborsRegressor\n",
    "from statsmodels.nonparametric.smoothers_lowess import lowess\n",
    "from sklearn.naive_bayes import BernoulliNB, GaussianNB\n",
    "from sklearn.preprocessing import normalize, scale, Normalizer, StandardScaler\n",
    "from sklearn.linear_model import LogisticRegression, LinearRegression\n",
    "from sklearn.svm import SVC, SVR, LinearSVC\n",
    "from sklearn.feature_extraction.text import CountVectorizer\n",
    "\n",
    "import numpy as np\n",
    "import pandas as pd\n",
    "import pickle \n",
    "import os, re\n",
    "from PIL import Image\n",
    "import pathlib\n",
    "import csv\n",
    "import urllib\n",
    "\n",
    "from sklearn import datasets\n",
    "\n",
    "# pip install git+git://github.com/mgelbart/plot-classifier.git\n",
    "from plot_classifier import plot_classifier\n",
    "\n",
    "import matplotlib.pyplot as plt\n",
    "%matplotlib inline\n",
    "\n",
    "import pandas as pd\n",
    "pd.set_option(\"display.max_colwidth\", 200)\n",
    "\n",
    "import altair as alt\n",
    "\n",
    "# pip install ipython-autotime\n",
    "import autotime"
   ]
  },
  {
   "cell_type": "code",
   "execution_count": 2,
   "metadata": {
    "scrolled": true
   },
   "outputs": [
    {
     "data": {
      "text/html": [
       "<div>\n",
       "<style scoped>\n",
       "    .dataframe tbody tr th:only-of-type {\n",
       "        vertical-align: middle;\n",
       "    }\n",
       "\n",
       "    .dataframe tbody tr th {\n",
       "        vertical-align: top;\n",
       "    }\n",
       "\n",
       "    .dataframe thead th {\n",
       "        text-align: right;\n",
       "    }\n",
       "</style>\n",
       "<table border=\"1\" class=\"dataframe\">\n",
       "  <thead>\n",
       "    <tr style=\"text-align: right;\">\n",
       "      <th></th>\n",
       "      <th>Unnamed: 0</th>\n",
       "      <th>type</th>\n",
       "      <th>review</th>\n",
       "      <th>label</th>\n",
       "      <th>file</th>\n",
       "    </tr>\n",
       "  </thead>\n",
       "  <tbody>\n",
       "    <tr>\n",
       "      <th>0</th>\n",
       "      <td>0</td>\n",
       "      <td>test</td>\n",
       "      <td>Once again Mr. Costner has dragged out a movie for far longer than necessary. Aside from the terrific sea rescue sequences, of which there are very few I just did not care about any of the charact...</td>\n",
       "      <td>neg</td>\n",
       "      <td>0_2.txt</td>\n",
       "    </tr>\n",
       "    <tr>\n",
       "      <th>1</th>\n",
       "      <td>1</td>\n",
       "      <td>test</td>\n",
       "      <td>This is an example of why the majority of action films are the same. Generic and boring, there's really nothing worth watching here. A complete waste of the then barely-tapped talents of Ice-T and...</td>\n",
       "      <td>neg</td>\n",
       "      <td>10000_4.txt</td>\n",
       "    </tr>\n",
       "    <tr>\n",
       "      <th>2</th>\n",
       "      <td>2</td>\n",
       "      <td>test</td>\n",
       "      <td>First of all I hate those moronic rappers, who could'nt act if they had a gun pressed against their foreheads. All they do is curse and shoot each other and acting like clichÃ©'e version of gangst...</td>\n",
       "      <td>neg</td>\n",
       "      <td>10001_1.txt</td>\n",
       "    </tr>\n",
       "    <tr>\n",
       "      <th>3</th>\n",
       "      <td>3</td>\n",
       "      <td>test</td>\n",
       "      <td>Not even the Beatles could write songs everyone liked, and although Walter Hill is no mop-top he's second to none when it comes to thought provoking action movies. The nineties came and social pla...</td>\n",
       "      <td>neg</td>\n",
       "      <td>10002_3.txt</td>\n",
       "    </tr>\n",
       "  </tbody>\n",
       "</table>\n",
       "</div>"
      ],
      "text/plain": [
       "   Unnamed: 0  type  \\\n",
       "0           0  test   \n",
       "1           1  test   \n",
       "2           2  test   \n",
       "3           3  test   \n",
       "\n",
       "                                                                                                                                                                                                    review  \\\n",
       "0  Once again Mr. Costner has dragged out a movie for far longer than necessary. Aside from the terrific sea rescue sequences, of which there are very few I just did not care about any of the charact...   \n",
       "1  This is an example of why the majority of action films are the same. Generic and boring, there's really nothing worth watching here. A complete waste of the then barely-tapped talents of Ice-T and...   \n",
       "2  First of all I hate those moronic rappers, who could'nt act if they had a gun pressed against their foreheads. All they do is curse and shoot each other and acting like clichÃ©'e version of gangst...   \n",
       "3  Not even the Beatles could write songs everyone liked, and although Walter Hill is no mop-top he's second to none when it comes to thought provoking action movies. The nineties came and social pla...   \n",
       "\n",
       "  label         file  \n",
       "0   neg      0_2.txt  \n",
       "1   neg  10000_4.txt  \n",
       "2   neg  10001_1.txt  \n",
       "3   neg  10002_3.txt  "
      ]
     },
     "execution_count": 2,
     "metadata": {},
     "output_type": "execute_result"
    }
   ],
   "source": [
    "# Read IMDB movie reviews into a pandas DataFrame\n",
    "imdb_df = pd.read_csv('data/imdb_master.csv', encoding = \"ISO-8859-1\")\n",
    "# Only keep the reviews with pos and neg labels\n",
    "imdb_df = imdb_df[imdb_df['label'].str.startswith(('pos','neg'))]\n",
    "imdb_df.head(4)"
   ]
  },
  {
   "cell_type": "markdown",
   "metadata": {},
   "source": [
    "### Logistic Regression "
   ]
  },
  {
   "cell_type": "code",
   "execution_count": 3,
   "metadata": {},
   "outputs": [],
   "source": [
    "X_train, X_valid, y_train, y_valid = train_test_split(imdb_df['review'], \n",
    "                                                                        imdb_df['label'], \n",
    "                                                                        test_size = 0.20, \n",
    "                                                                        random_state = 12)\n",
    "vec = CountVectorizer(max_features=5000,                       \n",
    "                      stop_words='english')\n",
    "\n",
    "X_train_counts = vec.fit_transform(X_train) \n",
    "  \n",
    "X_test_counts = vec.transform(X_valid)"
   ]
  },
  {
   "cell_type": "code",
   "execution_count": 4,
   "metadata": {},
   "outputs": [
    {
     "name": "stderr",
     "output_type": "stream",
     "text": [
      "//anaconda3/lib/python3.7/site-packages/sklearn/linear_model/_logistic.py:940: ConvergenceWarning: lbfgs failed to converge (status=1):\n",
      "STOP: TOTAL NO. of ITERATIONS REACHED LIMIT.\n",
      "\n",
      "Increase the number of iterations (max_iter) or scale the data as shown in:\n",
      "    https://scikit-learn.org/stable/modules/preprocessing.html\n",
      "Please also refer to the documentation for alternative solver options:\n",
      "    https://scikit-learn.org/stable/modules/linear_model.html#logistic-regression\n",
      "  extra_warning_msg=_LOGISTIC_SOLVER_CONVERGENCE_MSG)\n"
     ]
    },
    {
     "data": {
      "text/plain": [
       "LogisticRegression(C=1.0, class_weight=None, dual=False, fit_intercept=True,\n",
       "                   intercept_scaling=1, l1_ratio=None, max_iter=100,\n",
       "                   multi_class='auto', n_jobs=None, penalty='l2',\n",
       "                   random_state=None, solver='lbfgs', tol=0.0001, verbose=0,\n",
       "                   warm_start=False)"
      ]
     },
     "execution_count": 4,
     "metadata": {},
     "output_type": "execute_result"
    }
   ],
   "source": [
    "lr = LogisticRegression()\n",
    "lr.fit(X_train_counts, y_train)"
   ]
  },
  {
   "cell_type": "code",
   "execution_count": 5,
   "metadata": {},
   "outputs": [],
   "source": [
    "vocab = vec.get_feature_names()\n",
    "weights = lr.coef_.flatten()\n",
    "\n",
    "inds = np.argsort(lr.coef_.flatten())\n",
    "\n",
    "negative_words = [vocab[index] for index in inds[:10]]\n",
    "\n",
    "neg_words_weights = [(weights[index]) for index in inds[:10]]\n",
    "\n",
    "results = pd.DataFrame({'Neg Words':negative_words, 'Weights':neg_words_weights})\n",
    "\n",
    "results.to_csv(r'table\\negative.csv')"
   ]
  },
  {
   "cell_type": "code",
   "execution_count": 6,
   "metadata": {
    "scrolled": false
   },
   "outputs": [
    {
     "data": {
      "text/html": [
       "<div>\n",
       "<style scoped>\n",
       "    .dataframe tbody tr th:only-of-type {\n",
       "        vertical-align: middle;\n",
       "    }\n",
       "\n",
       "    .dataframe tbody tr th {\n",
       "        vertical-align: top;\n",
       "    }\n",
       "\n",
       "    .dataframe thead th {\n",
       "        text-align: right;\n",
       "    }\n",
       "</style>\n",
       "<table border=\"1\" class=\"dataframe\">\n",
       "  <thead>\n",
       "    <tr style=\"text-align: right;\">\n",
       "      <th></th>\n",
       "      <th>Neg Words</th>\n",
       "      <th>Weights</th>\n",
       "    </tr>\n",
       "  </thead>\n",
       "  <tbody>\n",
       "    <tr>\n",
       "      <th>0</th>\n",
       "      <td>waste</td>\n",
       "      <td>-2.250113</td>\n",
       "    </tr>\n",
       "    <tr>\n",
       "      <th>1</th>\n",
       "      <td>disappointment</td>\n",
       "      <td>-2.175797</td>\n",
       "    </tr>\n",
       "    <tr>\n",
       "      <th>2</th>\n",
       "      <td>mst3k</td>\n",
       "      <td>-2.171390</td>\n",
       "    </tr>\n",
       "    <tr>\n",
       "      <th>3</th>\n",
       "      <td>mildly</td>\n",
       "      <td>-1.952146</td>\n",
       "    </tr>\n",
       "    <tr>\n",
       "      <th>4</th>\n",
       "      <td>forgettable</td>\n",
       "      <td>-1.908331</td>\n",
       "    </tr>\n",
       "    <tr>\n",
       "      <th>5</th>\n",
       "      <td>laughable</td>\n",
       "      <td>-1.896478</td>\n",
       "    </tr>\n",
       "    <tr>\n",
       "      <th>6</th>\n",
       "      <td>uninspired</td>\n",
       "      <td>-1.881927</td>\n",
       "    </tr>\n",
       "    <tr>\n",
       "      <th>7</th>\n",
       "      <td>lousy</td>\n",
       "      <td>-1.820625</td>\n",
       "    </tr>\n",
       "    <tr>\n",
       "      <th>8</th>\n",
       "      <td>redeeming</td>\n",
       "      <td>-1.773734</td>\n",
       "    </tr>\n",
       "    <tr>\n",
       "      <th>9</th>\n",
       "      <td>worst</td>\n",
       "      <td>-1.749149</td>\n",
       "    </tr>\n",
       "  </tbody>\n",
       "</table>\n",
       "</div>"
      ],
      "text/plain": [
       "        Neg Words   Weights\n",
       "0           waste -2.250113\n",
       "1  disappointment -2.175797\n",
       "2           mst3k -2.171390\n",
       "3          mildly -1.952146\n",
       "4     forgettable -1.908331\n",
       "5       laughable -1.896478\n",
       "6      uninspired -1.881927\n",
       "7           lousy -1.820625\n",
       "8       redeeming -1.773734\n",
       "9           worst -1.749149"
      ]
     },
     "execution_count": 6,
     "metadata": {},
     "output_type": "execute_result"
    }
   ],
   "source": [
    "results"
   ]
  },
  {
   "cell_type": "markdown",
   "metadata": {},
   "source": [
    "### Exploritory analysis "
   ]
  },
  {
   "cell_type": "code",
   "execution_count": 7,
   "metadata": {},
   "outputs": [],
   "source": [
    "mst3k_df = imdb_df[imdb_df['review'].str.contains(\"MST3K\")]"
   ]
  },
  {
   "cell_type": "code",
   "execution_count": 8,
   "metadata": {},
   "outputs": [
    {
     "data": {
      "image/png": "[encoded data removed]",
      "text/plain": [
       "<Figure size 432x288 with 1 Axes>"
      ]
     },
     "metadata": {
      "needs_background": "light"
     },
     "output_type": "display_data"
    }
   ],
   "source": [
    "plt.hist(mst3k_df[\"label\"], facecolor='g', alpha=0.75)\n",
    "\n",
    "plt.xlabel(\"Review Type\")\n",
    "plt.title(\"Historgram of MST3K\")\n",
    "plt.ylabel(\"Frequency\")\n",
    "plt.savefig(\"img/hist.png\")"
   ]
  },
  {
   "cell_type": "code",
   "execution_count": 9,
   "metadata": {
    "scrolled": false
   },
   "outputs": [
    {
     "data": {
      "text/html": [
       "<div>\n",
       "<style scoped>\n",
       "    .dataframe tbody tr th:only-of-type {\n",
       "        vertical-align: middle;\n",
       "    }\n",
       "\n",
       "    .dataframe tbody tr th {\n",
       "        vertical-align: top;\n",
       "    }\n",
       "\n",
       "    .dataframe thead th {\n",
       "        text-align: right;\n",
       "    }\n",
       "</style>\n",
       "<table border=\"1\" class=\"dataframe\">\n",
       "  <thead>\n",
       "    <tr style=\"text-align: right;\">\n",
       "      <th></th>\n",
       "      <th>Unnamed: 0</th>\n",
       "      <th>type</th>\n",
       "      <th>review</th>\n",
       "      <th>label</th>\n",
       "      <th>file</th>\n",
       "    </tr>\n",
       "  </thead>\n",
       "  <tbody>\n",
       "    <tr>\n",
       "      <th>9989</th>\n",
       "      <td>9989</td>\n",
       "      <td>test</td>\n",
       "      <td>I watched the MST3K version of the movie, and this review includes minor spoilers.&lt;br /&gt;&lt;br /&gt;When I started watching this movie, it looked like it might have promise as a cheesy sci-fi flick, but...</td>\n",
       "      <td>neg</td>\n",
       "      <td>7741_4.txt</td>\n",
       "    </tr>\n",
       "    <tr>\n",
       "      <th>9990</th>\n",
       "      <td>9990</td>\n",
       "      <td>test</td>\n",
       "      <td>Boy, this movie is bad. And not in a good, cheesy, fun way, either. Even MST3K couldn't stop it from being boring, and it's also confusing as all get out. But the most annoying part of this dull m...</td>\n",
       "      <td>neg</td>\n",
       "      <td>7742_1.txt</td>\n",
       "    </tr>\n",
       "    <tr>\n",
       "      <th>9991</th>\n",
       "      <td>9991</td>\n",
       "      <td>test</td>\n",
       "      <td>And the title says it all: a cheesy sounding title that is a cheesy sounding joke of a film known as \"Alien from L.A.\" Why not just call it \"Alien from South Africa,\" as this is the place where th...</td>\n",
       "      <td>neg</td>\n",
       "      <td>7743_1.txt</td>\n",
       "    </tr>\n",
       "    <tr>\n",
       "      <th>9993</th>\n",
       "      <td>9993</td>\n",
       "      <td>test</td>\n",
       "      <td>In 1990 I saw Kathy Ireland in person - I was at UNT in Denton during the filming of \"Necessary Roughness.\" Strangely enough, the voice she's using in this film isn't too far off from her real spe...</td>\n",
       "      <td>neg</td>\n",
       "      <td>7745_1.txt</td>\n",
       "    </tr>\n",
       "    <tr>\n",
       "      <th>10440</th>\n",
       "      <td>10440</td>\n",
       "      <td>test</td>\n",
       "      <td>Admittedly, I watched the MST3K version of this, but it's not actually too bad outright, at least compared to others which deserve my cinematic hatred.&lt;br /&gt;&lt;br /&gt;The story centers around a troubl...</td>\n",
       "      <td>neg</td>\n",
       "      <td>8147_4.txt</td>\n",
       "    </tr>\n",
       "    <tr>\n",
       "      <th>10764</th>\n",
       "      <td>10764</td>\n",
       "      <td>test</td>\n",
       "      <td>I picked up this DVD for $4.99. They had put spiffy cover art on the package, along with a plot summary that had nothing to do with the movie. The acting is terrible, and the writing is worse. The...</td>\n",
       "      <td>neg</td>\n",
       "      <td>8439_1.txt</td>\n",
       "    </tr>\n",
       "    <tr>\n",
       "      <th>11081</th>\n",
       "      <td>11081</td>\n",
       "      <td>test</td>\n",
       "      <td>This is the \"Battlefield Earth\" of mini series. It has with a few exceptions, all the disastrous ingredients that doomed that movie and will follow it to the grave in the turkey cemetery. They are...</td>\n",
       "      <td>neg</td>\n",
       "      <td>8724_1.txt</td>\n",
       "    </tr>\n",
       "    <tr>\n",
       "      <th>11103</th>\n",
       "      <td>11103</td>\n",
       "      <td>test</td>\n",
       "      <td>This joins the endless line of corny, predictable 50's sci-fi shlock out there. As usual, it's pretty bad. There isn't much of a plot that I could detect and the over-exaggeration of the leads onl...</td>\n",
       "      <td>neg</td>\n",
       "      <td>8744_2.txt</td>\n",
       "    </tr>\n",
       "    <tr>\n",
       "      <th>11104</th>\n",
       "      <td>11104</td>\n",
       "      <td>test</td>\n",
       "      <td>I suppose you could say this film has a grain of potential, but nothing more, because boy did the filmmakers botch it. The plot is practically incomprehensible, the pacing is lethargic and the act...</td>\n",
       "      <td>neg</td>\n",
       "      <td>8745_2.txt</td>\n",
       "    </tr>\n",
       "    <tr>\n",
       "      <th>11105</th>\n",
       "      <td>11105</td>\n",
       "      <td>test</td>\n",
       "      <td>As a kid, this movie scared me green. As an adult, I couldn't stop laughing.&lt;br /&gt;&lt;br /&gt;I have not had the pleasure of watching this movie via MST3K. I caught it, instead, on a late Saturday after...</td>\n",
       "      <td>neg</td>\n",
       "      <td>8746_4.txt</td>\n",
       "    </tr>\n",
       "  </tbody>\n",
       "</table>\n",
       "</div>"
      ],
      "text/plain": [
       "       Unnamed: 0  type  \\\n",
       "9989         9989  test   \n",
       "9990         9990  test   \n",
       "9991         9991  test   \n",
       "9993         9993  test   \n",
       "10440       10440  test   \n",
       "10764       10764  test   \n",
       "11081       11081  test   \n",
       "11103       11103  test   \n",
       "11104       11104  test   \n",
       "11105       11105  test   \n",
       "\n",
       "                                                                                                                                                                                                        review  \\\n",
       "9989   I watched the MST3K version of the movie, and this review includes minor spoilers.<br /><br />When I started watching this movie, it looked like it might have promise as a cheesy sci-fi flick, but...   \n",
       "9990   Boy, this movie is bad. And not in a good, cheesy, fun way, either. Even MST3K couldn't stop it from being boring, and it's also confusing as all get out. But the most annoying part of this dull m...   \n",
       "9991   And the title says it all: a cheesy sounding title that is a cheesy sounding joke of a film known as \"Alien from L.A.\" Why not just call it \"Alien from South Africa,\" as this is the place where th...   \n",
       "9993   In 1990 I saw Kathy Ireland in person - I was at UNT in Denton during the filming of \"Necessary Roughness.\" Strangely enough, the voice she's using in this film isn't too far off from her real spe...   \n",
       "10440  Admittedly, I watched the MST3K version of this, but it's not actually too bad outright, at least compared to others which deserve my cinematic hatred.<br /><br />The story centers around a troubl...   \n",
       "10764  I picked up this DVD for $4.99. They had put spiffy cover art on the package, along with a plot summary that had nothing to do with the movie. The acting is terrible, and the writing is worse. The...   \n",
       "11081  This is the \"Battlefield Earth\" of mini series. It has with a few exceptions, all the disastrous ingredients that doomed that movie and will follow it to the grave in the turkey cemetery. They are...   \n",
       "11103  This joins the endless line of corny, predictable 50's sci-fi shlock out there. As usual, it's pretty bad. There isn't much of a plot that I could detect and the over-exaggeration of the leads onl...   \n",
       "11104  I suppose you could say this film has a grain of potential, but nothing more, because boy did the filmmakers botch it. The plot is practically incomprehensible, the pacing is lethargic and the act...   \n",
       "11105  As a kid, this movie scared me green. As an adult, I couldn't stop laughing.<br /><br />I have not had the pleasure of watching this movie via MST3K. I caught it, instead, on a late Saturday after...   \n",
       "\n",
       "      label        file  \n",
       "9989    neg  7741_4.txt  \n",
       "9990    neg  7742_1.txt  \n",
       "9991    neg  7743_1.txt  \n",
       "9993    neg  7745_1.txt  \n",
       "10440   neg  8147_4.txt  \n",
       "10764   neg  8439_1.txt  \n",
       "11081   neg  8724_1.txt  \n",
       "11103   neg  8744_2.txt  \n",
       "11104   neg  8745_2.txt  \n",
       "11105   neg  8746_4.txt  "
      ]
     },
     "execution_count": 9,
     "metadata": {},
     "output_type": "execute_result"
    }
   ],
   "source": [
    "mst3k_df[80:90]"
   ]
  },
  {
   "cell_type": "markdown",
   "metadata": {},
   "source": [
    "### Reviews some of the movies"
   ]
  },
  {
   "cell_type": "code",
   "execution_count": 10,
   "metadata": {},
   "outputs": [],
   "source": [
    "results = {\n",
    "\"Movie\" : [\"Darkhunters\", \"Galaxina\", \"Manos: The Hands of Fate\", \"Soultaker\", \"Robot Holocaust\", \"Rocketship X-M\", \"Steel Frontier\", \"The Clonus Horror\", \"Alien from L.A.\"],\n",
    "\"Year\" : [2004, 1980, 1966, 1990, 1987, 1950, 1995, 1979, 1988],\n",
    "\"Review Score\" : [2.2, 3.7, 1.9, 2.3, 2.2, 4.9, 4.8, 3.8, 2.9]\n",
    "}\n",
    "\n",
    "results_df = pd.DataFrame(results)\n"
   ]
  },
  {
   "cell_type": "code",
   "execution_count": 11,
   "metadata": {},
   "outputs": [
    {
     "data": {
      "text/html": [
       "<div>\n",
       "<style scoped>\n",
       "    .dataframe tbody tr th:only-of-type {\n",
       "        vertical-align: middle;\n",
       "    }\n",
       "\n",
       "    .dataframe tbody tr th {\n",
       "        vertical-align: top;\n",
       "    }\n",
       "\n",
       "    .dataframe thead th {\n",
       "        text-align: right;\n",
       "    }\n",
       "</style>\n",
       "<table border=\"1\" class=\"dataframe\">\n",
       "  <thead>\n",
       "    <tr style=\"text-align: right;\">\n",
       "      <th></th>\n",
       "      <th>Movie</th>\n",
       "      <th>Year</th>\n",
       "      <th>Review Score</th>\n",
       "    </tr>\n",
       "  </thead>\n",
       "  <tbody>\n",
       "    <tr>\n",
       "      <th>0</th>\n",
       "      <td>Darkhunters</td>\n",
       "      <td>2004</td>\n",
       "      <td>2.2</td>\n",
       "    </tr>\n",
       "    <tr>\n",
       "      <th>1</th>\n",
       "      <td>Galaxina</td>\n",
       "      <td>1980</td>\n",
       "      <td>3.7</td>\n",
       "    </tr>\n",
       "    <tr>\n",
       "      <th>2</th>\n",
       "      <td>Manos: The Hands of Fate</td>\n",
       "      <td>1966</td>\n",
       "      <td>1.9</td>\n",
       "    </tr>\n",
       "    <tr>\n",
       "      <th>3</th>\n",
       "      <td>Soultaker</td>\n",
       "      <td>1990</td>\n",
       "      <td>2.3</td>\n",
       "    </tr>\n",
       "    <tr>\n",
       "      <th>4</th>\n",
       "      <td>Robot Holocaust</td>\n",
       "      <td>1987</td>\n",
       "      <td>2.2</td>\n",
       "    </tr>\n",
       "    <tr>\n",
       "      <th>5</th>\n",
       "      <td>Rocketship X-M</td>\n",
       "      <td>1950</td>\n",
       "      <td>4.9</td>\n",
       "    </tr>\n",
       "    <tr>\n",
       "      <th>6</th>\n",
       "      <td>Steel Frontier</td>\n",
       "      <td>1995</td>\n",
       "      <td>4.8</td>\n",
       "    </tr>\n",
       "    <tr>\n",
       "      <th>7</th>\n",
       "      <td>The Clonus Horror</td>\n",
       "      <td>1979</td>\n",
       "      <td>3.8</td>\n",
       "    </tr>\n",
       "    <tr>\n",
       "      <th>8</th>\n",
       "      <td>Alien from L.A.</td>\n",
       "      <td>1988</td>\n",
       "      <td>2.9</td>\n",
       "    </tr>\n",
       "  </tbody>\n",
       "</table>\n",
       "</div>"
      ],
      "text/plain": [
       "                      Movie  Year  Review Score\n",
       "0               Darkhunters  2004           2.2\n",
       "1                  Galaxina  1980           3.7\n",
       "2  Manos: The Hands of Fate  1966           1.9\n",
       "3                 Soultaker  1990           2.3\n",
       "4           Robot Holocaust  1987           2.2\n",
       "5            Rocketship X-M  1950           4.9\n",
       "6            Steel Frontier  1995           4.8\n",
       "7         The Clonus Horror  1979           3.8\n",
       "8           Alien from L.A.  1988           2.9"
      ]
     },
     "execution_count": 11,
     "metadata": {},
     "output_type": "execute_result"
    }
   ],
   "source": [
    "results_df"
   ]
  },
  {
   "cell_type": "markdown",
   "metadata": {},
   "source": [
    "### Some Reviews "
   ]
  },
  {
   "cell_type": "code",
   "execution_count": 12,
   "metadata": {},
   "outputs": [
    {
     "data": {
      "text/plain": [
       "'You know the story of \"Sweeney Todd\" now, most likely thanks to Tim Burton\\'s recent movie. You probably don\\'t know it though, from this take on the old tale from Andy Milligan-that notorious sleaze merchant that gave Al Adamson and Ted V. Mikels a run for their money.<br /><br />It had to happen eventually. In my years of watching horror and exploitation from the 60\\'s to the 80\\'s, I\\'m finally reviewing an Andy Milligan movie. You see, from 1964 to 1990, Andy gave us many an exploitation and horror movie-none of which was any good, and barely watchable. \"The Bloodthirsty Butchers\" is no exception.<br /><br />There is dialog and well, there is talk, and that\\'s one of the things you will find here-lots and lots of talk. The movie reaches almost \"Manos The Hands of Fate\" levels at times, as you wait tirelessly for something to happen. While I love cheap looking gore effects, the violence is too few and far between, and in spite of it\\'s reputation, the \"breast\" scene isn\\'t that shocking. <br /><br />I love cheap and sleazy exploitation as much as the next trash cinema devotee, but \"Bloodthirsty Butchers\" is the kind of bad that MST3K would tear apart mercilessly. Sadly, Milligan would die of AIDS in 1991, and if there is any movie of his I\\'d say I sort of like, it would be the delirious \"The Ghastly Ones.\" This is no \"Ghastly Ones\" though-it\\'s just bad.'"
      ]
     },
     "execution_count": 12,
     "metadata": {},
     "output_type": "execute_result"
    }
   ],
   "source": [
    "imdb_df[\"review\"].loc[6595]"
   ]
  },
  {
   "cell_type": "code",
   "execution_count": 13,
   "metadata": {},
   "outputs": [
    {
     "data": {
      "text/plain": [
       "\"Good grief! While I still maintain that Manos: The Hands of Fate is the worst piece of mental torture available, Hobgoblins came awfully close. This...this...thing insults the audience at every opportunity.<br /><br />At least films like Space Mutiny and Future War can be enjoyed on mst3k, this one was a struggle to get through. I was literally writhing on the couch in anguish. This thing managed to embarrass me - alone!<br /><br />Even if you are a die-hard MST3K fan and have made it your mission to see every single experiment, think twice about seeing this one.<br /><br />It's that bad.\""
      ]
     },
     "execution_count": 13,
     "metadata": {},
     "output_type": "execute_result"
    }
   ],
   "source": [
    "imdb_df[\"review\"].loc[29812]"
   ]
  },
  {
   "cell_type": "code",
   "execution_count": 14,
   "metadata": {
    "scrolled": false
   },
   "outputs": [
    {
     "data": {
      "text/plain": [
       "'This movie really is that bad, and I\\'m normally a sucker for bad movies, but this was too much. Seeing this is like OD\\'ing on pure SUCK. Now, you may think you\\'ve seen the bottom of the barrel. You may have waded through every title from Full Moon and Troma, all the movies of Edward D. Wood Jr, Uwe Boll, Albert Pyun and direct to DVD-flicks from faded men-of-action. You may even have seen Death Tunnel, Ghost Lake and a vast array of the movies that MST3K covered, but in their original form. But you do not know truly awful film-making until you have seen Darkhunters. And if you haven\\'t, you shouldn\\'t. Don\\'t bother. Not only is this movie amazingly poorly written, directed, shot, edited, acted and splattered in crude, cheap aftereffects. First of all, it\\'s a pretentious mess. But not good, Greenaway or Lynch-style pretentious or hilariously messy in an Ittenbach or early Waters sort of fashion. It\\'s the kind of pretentiousness that comes when someone incredibly stupid thinks they\\'ve come up with something incredibly smart. Sort of like M. Night Shaymalan (sp?), only that man seems like a freakin\\' messiah when compared to this trainwreck (and this coming from a rampant Shaymalan hater). It\\'s also boring. Not heavy going-type boring, which is okay, if the movie awards your patience. Darkhunters does no such thing. It\\'s boring in a \"Oh my fu(king God, if I see another shot of a cat set to an obnoxious audio cue I am going to fu(king kill myself!\"-kind of way.<br /><br />Btw. anyone who claims to like this film is a boldfaced liar and anyone who claims this film is complex or deep knows what their mother is like in bed.'"
      ]
     },
     "execution_count": 14,
     "metadata": {},
     "output_type": "execute_result"
    }
   ],
   "source": [
    "imdb_df[\"review\"].loc[134]"
   ]
  },
  {
   "cell_type": "code",
   "execution_count": 15,
   "metadata": {},
   "outputs": [
    {
     "data": {
      "text/plain": [
       "\"I have seen both the MST3K version and the uncut version. I rather enjoyed it. Either way, it wasn't that bad of a movie. Sure it moved a bit slow at times. I liked it.<br /><br />As far as MST3K goes, they only did the movies they could get the rights for. Not all the movies they ripped apart where bad movies, it was just so easy to make fun of them. Take SoulTaker for example.<br /><br />Joe Estevez and Robert Z'Dar's characters where so inanimate and boringly silly I couldn't help but laugh. I couldn't take them seriously. It really created a unique feeling though.<br /><br />Vivian Schilling did an excellent job with the script. A world better than 95% of the garbage in the theatres today. Her role was played well. Not too screamy not to masculine but just right. The camera really likes her in this movie. I would have casted her in that role after ready the script.<br /><br />Anyways, this movie deserves a bit more credit than it is given. Please watch the uncut version if you see the MST3K. It deserves that much.\""
      ]
     },
     "execution_count": 15,
     "metadata": {},
     "output_type": "execute_result"
    }
   ],
   "source": [
    "imdb_df[\"review\"].loc[882]"
   ]
  },
  {
   "cell_type": "code",
   "execution_count": 16,
   "metadata": {
    "scrolled": true
   },
   "outputs": [
    {
     "data": {
      "text/plain": [
       "\"First of all, since I'm one of the people who never saw the MST3K chopped up version of this movie, I can't comment on that.<br /><br />However, I DID see the original version of this movie on the Sci-Fi Channel and I thought it was just as good as anything else on that Channel. In fact, I thought it was one of their better offerings.<br /><br />I've noticed in perusing the comments here that the people who write in detail about SOULTAKER with a modicum of intelligence, thoughtfulness and maturity tend to like at least a FEW things about this movie and rightly so. In it's original cut, most reasonable people I think would probably rate it at least 4 or 5 stars out of 10. Five is average to me and I think this movie is about average for a Sci Fi pic.<br /><br />In contrast to the above, I've also noticed that the reviewers who seem immature, dull and flip and as a result come off as boneheads from where I stand, are the same ones who can't find anything good about this movie and basically trash it without cause based MOSTLY on seeing it chopped up and fricasseed on MST3K. Or if they have seen both cuts it seems they were greatly prejudiced by the MST3K viewing to begin with.\""
      ]
     },
     "execution_count": 16,
     "metadata": {},
     "output_type": "execute_result"
    }
   ],
   "source": [
    "imdb_df[\"review\"].loc[883]"
   ]
  },
  {
   "cell_type": "code",
   "execution_count": 17,
   "metadata": {
    "scrolled": true
   },
   "outputs": [
    {
     "data": {
      "text/plain": [
       "'Robot Holocaust is about the lamest, most pathetic attempt at making a post-apocalyptic movie that I\\'ve seen. And I thought the Italians were the masters of wretched Mad Max wannabes. Some of those movies like Escape 2000 are positively brilliant in comparison with this piece of poo. The plot is nonsensical Â? even with a narrator setting up every scene. And boy does it drag. Scene after scene with nothing of any interest happening. The special effects (and I use the word \"special\" loosely) consist of sock puppets. Yes, that\\'s right Â? sock puppets! The acting is abysmal. Angelika Jager is in the running for worst performance I\\'ve ever seen. Sure, she\\'s French or German or whatever Â? but man is she bad. I cannot think of a single positive thing to say about the movie. So I\\'ll stop there because ten sentences on this junk is about ten too many.<br /><br />However, and fortunately for me, I saw the MST3K version of Robot Holocaust. Some of the things that made the movie so bad helped make this MST3K episode a winner. For a season one episode, the riffs come fast and furious and hit their mark just about every time. On my MST3K rating scale, I give this episode a 4/5 Â? seek it out.'"
      ]
     },
     "execution_count": 17,
     "metadata": {},
     "output_type": "execute_result"
    }
   ],
   "source": [
    "imdb_df[\"review\"].loc[1734]"
   ]
  },
  {
   "cell_type": "code",
   "execution_count": 18,
   "metadata": {},
   "outputs": [
    {
     "data": {
      "text/plain": [
       "'To call \"Rocketship X-M\" a science fiction classic is due more to its release date (1950), its savvy ability to capitalize on the publicity for \"Destination Moon\", and the appearance of actors who would later star in television as Sea Hunt\\'s Mike Nelson, Rockford\\'s dad and Wyatt Earp.<br /><br />The movie itself is bad enough to be good fodder for MST3K and is best viewed with commentary from Joel and the robots. This is the type of movie best suited to added riffing from the MST3K characters; something preachy, slow-paced, poorly scripted, and full of painfully bad acting. While unintentionally funny stuff like \"Plan 9 From Outer Space\" don\\'t lend themselves to satirical commentary (because the movie constantly upstages the hosts), really bad and dull movies like \"Rocketship X-M\" are ideal. So add some stars to the rating if you are watching the MST3K version.<br /><br />The basic story has the crew taking an unplanned right turn at the moon and ending up on Mars. What they find on that planet are the remnants of a human-like civilization devastated by an atomic war. Only one Martian is shown in close-up, a normal looking woman who is blind or at least has no pupils in her eyes. The men look like the \"goons\" in the old Popeye cartoons, they scamper agilely around the cliffs and throw boulders at the crew with amazing accuracy-especially if they are supposed to be blind. Of course none of this is ever explained as doing so would require some sign of logical analysis from the writers of the screenplay.<br /><br />The scenes on Mars are presented in something called \"Sepia Color\" to distinguish them from the rest of the B&W movie. If this has you thinking \"Wizard of Oz\" you will be disappointed because it is just black and white stuff with a slight brown tint added to the print in post-production.<br /><br />In keeping with the moronic sexism of the movie, the icy female scientist screws up her fuel calculations-both coming and going. Her failure to measure up to the men causes her feminine side to surface and she and Mike Nelson coo sweetly to each other as they face their doom (insert sound of gagging here).<br /><br />The real stars of the movie are the reporters at the command center. So much so that MST3K was inspired to specially salute these unheralded heroes. The intrepid squad of \"newsies\" are featured for the first 10 minutes of the movie, then take stations about 12 inches behind the technicians and monitoring equipment in the command center. Later they are called upon to ask the moronic questions needed by the mission director to expound on the movie\\'s already too obvious message.<br /><br />The DVD has an extremely low audio level, is not captioned, and is accompanied by a trailer. Although you will be thankful that it is only 77 minutes, it is still about 60 minutes too long as any 30 minute episode of \"The Twilight Zone\" has several times more content than this entire movie.<br /><br />Then again, what do I know? I\\'m only a child.'"
      ]
     },
     "execution_count": 18,
     "metadata": {},
     "output_type": "execute_result"
    }
   ],
   "source": [
    "imdb_df[\"review\"].loc[5566]"
   ]
  },
  {
   "cell_type": "markdown",
   "metadata": {},
   "source": [
    "### N-grams "
   ]
  },
  {
   "cell_type": "code",
   "execution_count": 19,
   "metadata": {},
   "outputs": [],
   "source": [
    "X_train, X_valid, y_train, y_valid = train_test_split(imdb_df['review'], \n",
    "                                                                        imdb_df['label'], \n",
    "                                                                        test_size = 0.20, \n",
    "                                                                        random_state = 12)\n",
    "vec = CountVectorizer(max_features=5000, \n",
    "                      ngram_range= (2,2),\n",
    "                      stop_words='english')\n",
    "\n",
    "X_train_counts = vec.fit_transform(X_train) \n",
    "  \n",
    "X_test_counts = vec.transform(X_valid)"
   ]
  },
  {
   "cell_type": "code",
   "execution_count": 20,
   "metadata": {},
   "outputs": [
    {
     "name": "stderr",
     "output_type": "stream",
     "text": [
      "//anaconda3/lib/python3.7/site-packages/sklearn/linear_model/_logistic.py:940: ConvergenceWarning: lbfgs failed to converge (status=1):\n",
      "STOP: TOTAL NO. of ITERATIONS REACHED LIMIT.\n",
      "\n",
      "Increase the number of iterations (max_iter) or scale the data as shown in:\n",
      "    https://scikit-learn.org/stable/modules/preprocessing.html\n",
      "Please also refer to the documentation for alternative solver options:\n",
      "    https://scikit-learn.org/stable/modules/linear_model.html#logistic-regression\n",
      "  extra_warning_msg=_LOGISTIC_SOLVER_CONVERGENCE_MSG)\n"
     ]
    },
    {
     "data": {
      "text/plain": [
       "LogisticRegression(C=1.0, class_weight=None, dual=False, fit_intercept=True,\n",
       "                   intercept_scaling=1, l1_ratio=None, max_iter=100,\n",
       "                   multi_class='auto', n_jobs=None, penalty='l2',\n",
       "                   random_state=None, solver='lbfgs', tol=0.0001, verbose=0,\n",
       "                   warm_start=False)"
      ]
     },
     "execution_count": 20,
     "metadata": {},
     "output_type": "execute_result"
    }
   ],
   "source": [
    "lr = LogisticRegression()\n",
    "lr.fit(X_train_counts, y_train)"
   ]
  },
  {
   "cell_type": "code",
   "execution_count": 21,
   "metadata": {},
   "outputs": [],
   "source": [
    "vocab = vec.get_feature_names()\n",
    "weights = lr.coef_.flatten()\n",
    "\n",
    "inds = np.argsort(lr.coef_.flatten())\n",
    "\n",
    "negative_words = [vocab[index] for index in inds[:10]]\n",
    "\n",
    "neg_words_weights = [(weights[index]) for index in inds[:10]]\n",
    "\n",
    "results = pd.DataFrame({'Neg Words':negative_words, 'Weights':neg_words_weights})\n",
    "\n",
    "results.to_csv(r'table\\negative_ngrams.csv')"
   ]
  },
  {
   "cell_type": "code",
   "execution_count": 22,
   "metadata": {},
   "outputs": [
    {
     "data": {
      "text/html": [
       "<div>\n",
       "<style scoped>\n",
       "    .dataframe tbody tr th:only-of-type {\n",
       "        vertical-align: middle;\n",
       "    }\n",
       "\n",
       "    .dataframe tbody tr th {\n",
       "        vertical-align: top;\n",
       "    }\n",
       "\n",
       "    .dataframe thead th {\n",
       "        text-align: right;\n",
       "    }\n",
       "</style>\n",
       "<table border=\"1\" class=\"dataframe\">\n",
       "  <thead>\n",
       "    <tr style=\"text-align: right;\">\n",
       "      <th></th>\n",
       "      <th>Neg Words</th>\n",
       "      <th>Weights</th>\n",
       "    </tr>\n",
       "  </thead>\n",
       "  <tbody>\n",
       "    <tr>\n",
       "      <th>0</th>\n",
       "      <td>worst films</td>\n",
       "      <td>-3.050785</td>\n",
       "    </tr>\n",
       "    <tr>\n",
       "      <th>1</th>\n",
       "      <td>disappointing film</td>\n",
       "      <td>-2.713587</td>\n",
       "    </tr>\n",
       "    <tr>\n",
       "      <th>2</th>\n",
       "      <td>save movie</td>\n",
       "      <td>-2.650080</td>\n",
       "    </tr>\n",
       "    <tr>\n",
       "      <th>3</th>\n",
       "      <td>worst movies</td>\n",
       "      <td>-2.638325</td>\n",
       "    </tr>\n",
       "    <tr>\n",
       "      <th>4</th>\n",
       "      <td>terrible film</td>\n",
       "      <td>-2.500183</td>\n",
       "    </tr>\n",
       "    <tr>\n",
       "      <th>5</th>\n",
       "      <td>worst ve</td>\n",
       "      <td>-2.491900</td>\n",
       "    </tr>\n",
       "    <tr>\n",
       "      <th>6</th>\n",
       "      <td>terrible movie</td>\n",
       "      <td>-2.487360</td>\n",
       "    </tr>\n",
       "    <tr>\n",
       "      <th>7</th>\n",
       "      <td>worst movie</td>\n",
       "      <td>-2.472387</td>\n",
       "    </tr>\n",
       "    <tr>\n",
       "      <th>8</th>\n",
       "      <td>just awful</td>\n",
       "      <td>-2.407856</td>\n",
       "    </tr>\n",
       "    <tr>\n",
       "      <th>9</th>\n",
       "      <td>poor script</td>\n",
       "      <td>-2.312758</td>\n",
       "    </tr>\n",
       "  </tbody>\n",
       "</table>\n",
       "</div>"
      ],
      "text/plain": [
       "            Neg Words   Weights\n",
       "0         worst films -3.050785\n",
       "1  disappointing film -2.713587\n",
       "2          save movie -2.650080\n",
       "3        worst movies -2.638325\n",
       "4       terrible film -2.500183\n",
       "5            worst ve -2.491900\n",
       "6      terrible movie -2.487360\n",
       "7         worst movie -2.472387\n",
       "8          just awful -2.407856\n",
       "9         poor script -2.312758"
      ]
     },
     "execution_count": 22,
     "metadata": {},
     "output_type": "execute_result"
    }
   ],
   "source": [
    "results"
   ]
  },
  {
   "cell_type": "code",
   "execution_count": null,
   "metadata": {},
   "outputs": [],
   "source": []
  }
 ],
 "metadata": {
  "kernelspec": {
   "display_name": "Python 3",
   "language": "python",
   "name": "python3"
  },
  "language_info": {
   "codemirror_mode": {
    "name": "ipython",
    "version": 3
   },
   "file_extension": ".py",
   "mimetype": "text/x-python",
   "name": "python",
   "nbconvert_exporter": "python",
   "pygments_lexer": "ipython3",
   "version": "3.7.3"
  }
 },
 "nbformat": 4,
 "nbformat_minor": 2
}
